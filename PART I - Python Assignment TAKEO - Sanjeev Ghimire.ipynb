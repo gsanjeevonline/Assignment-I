{
 "cells": [
  {
   "cell_type": "raw",
   "id": "084eeaa4",
   "metadata": {},
   "source": [
    "Part: 1\n",
    "\n",
    "Question 1.1: Create a list containing the numbers 1 through 10. Use a for loop to print each element squared.\n",
    "Question 2.2: Given the tuple (100, 200, 300, 400), write a Python program to add a new element (500) at the end of the tuple.\n",
    "Question 3.1: Create a set from the list [1, 2, 3, 1, 2, 3, 4, 5]. Print the set.\n",
    "Question 4.1: Create a dictionary to store the following information: name - John Doe, age - 29, city - New York. Print each value using its key.\n",
    "Question 5.1 (If-Else): Write a Python program that checks if a number stored in a variable is odd or even. Print an appropriate message to the screen.\n",
    "  Question 6.1: Write a lambda function to compute the square of a number and test it using the value 12.\n",
    "  Question 6.2: Use a lambda function to filter and print all the even numbers from a list provided by the user.\n",
    "Question 7.1 (while): Write a program that prompts the user to enter a number nnn. Using a loop, the program should print all numbers from 1 to n−1n-1n−1.\n"
   ]
  },
  {
   "cell_type": "markdown",
   "id": "7896e3d9",
   "metadata": {},
   "source": [
    "#### Question 1.1: Create a list containing the numbers 1 through 10. Use a for loop to print each element squared."
   ]
  },
  {
   "cell_type": "code",
   "execution_count": 1,
   "id": "fe7385b2",
   "metadata": {},
   "outputs": [
    {
     "data": {
      "text/plain": [
       "[1, 2, 3, 4, 5, 6, 7, 8, 9, 10]"
      ]
     },
     "execution_count": 1,
     "metadata": {},
     "output_type": "execute_result"
    }
   ],
   "source": [
    "my_list = list(range(1,11))\n",
    "my_list"
   ]
  },
  {
   "cell_type": "code",
   "execution_count": 2,
   "id": "88e496c2",
   "metadata": {},
   "outputs": [
    {
     "name": "stdout",
     "output_type": "stream",
     "text": [
      "1\n",
      "4\n",
      "9\n",
      "16\n",
      "25\n",
      "36\n",
      "49\n",
      "64\n",
      "81\n",
      "100\n"
     ]
    }
   ],
   "source": [
    "for number in my_list:\n",
    "    squared_number = number * number\n",
    "    print(squared_number)"
   ]
  },
  {
   "cell_type": "code",
   "execution_count": null,
   "id": "8f5f651b",
   "metadata": {},
   "outputs": [],
   "source": []
  },
  {
   "cell_type": "markdown",
   "id": "0043278e",
   "metadata": {},
   "source": [
    "#### Question 2.2: Given the tuple (100, 200, 300, 400), write a Python program to add a new element (500) at the end of the tuple."
   ]
  },
  {
   "cell_type": "code",
   "execution_count": 3,
   "id": "fc547af4",
   "metadata": {},
   "outputs": [],
   "source": [
    "my_tuple = (100,200,300,400)"
   ]
  },
  {
   "cell_type": "code",
   "execution_count": 4,
   "id": "f5c873fd",
   "metadata": {},
   "outputs": [],
   "source": [
    "my_list = list(my_tuple)"
   ]
  },
  {
   "cell_type": "code",
   "execution_count": 5,
   "id": "3f0e40ba",
   "metadata": {},
   "outputs": [
    {
     "data": {
      "text/plain": [
       "[100, 200, 300, 400]"
      ]
     },
     "execution_count": 5,
     "metadata": {},
     "output_type": "execute_result"
    }
   ],
   "source": [
    "my_list"
   ]
  },
  {
   "cell_type": "code",
   "execution_count": 6,
   "id": "f31790a2",
   "metadata": {},
   "outputs": [],
   "source": [
    "my_list.append(500)"
   ]
  },
  {
   "cell_type": "code",
   "execution_count": 7,
   "id": "6bd85462",
   "metadata": {},
   "outputs": [
    {
     "data": {
      "text/plain": [
       "[100, 200, 300, 400, 500]"
      ]
     },
     "execution_count": 7,
     "metadata": {},
     "output_type": "execute_result"
    }
   ],
   "source": [
    "my_list"
   ]
  },
  {
   "cell_type": "code",
   "execution_count": 8,
   "id": "db3f3eb3",
   "metadata": {},
   "outputs": [],
   "source": [
    "my_tuple = tuple(my_list)"
   ]
  },
  {
   "cell_type": "code",
   "execution_count": 9,
   "id": "48f2fec3",
   "metadata": {},
   "outputs": [
    {
     "data": {
      "text/plain": [
       "(100, 200, 300, 400, 500)"
      ]
     },
     "execution_count": 9,
     "metadata": {},
     "output_type": "execute_result"
    }
   ],
   "source": [
    "my_tuple"
   ]
  },
  {
   "cell_type": "code",
   "execution_count": null,
   "id": "6b4ce8dc",
   "metadata": {},
   "outputs": [],
   "source": []
  },
  {
   "cell_type": "markdown",
   "id": "1e7fed08",
   "metadata": {},
   "source": [
    "#### Question 3.1: Create a set from the list [1, 2, 3, 1, 2, 3, 4, 5]. Print the set.\n"
   ]
  },
  {
   "cell_type": "code",
   "execution_count": 10,
   "id": "7b6cf168",
   "metadata": {},
   "outputs": [],
   "source": [
    "my_list = [1,2,3,1,2,3,4,5]"
   ]
  },
  {
   "cell_type": "code",
   "execution_count": 11,
   "id": "84d42574",
   "metadata": {},
   "outputs": [],
   "source": [
    "my_set = set(my_list)"
   ]
  },
  {
   "cell_type": "code",
   "execution_count": 12,
   "id": "5f0088a8",
   "metadata": {},
   "outputs": [
    {
     "data": {
      "text/plain": [
       "{1, 2, 3, 4, 5}"
      ]
     },
     "execution_count": 12,
     "metadata": {},
     "output_type": "execute_result"
    }
   ],
   "source": [
    "my_set"
   ]
  },
  {
   "cell_type": "code",
   "execution_count": null,
   "id": "be5a77d2",
   "metadata": {},
   "outputs": [],
   "source": []
  },
  {
   "cell_type": "markdown",
   "id": "9daad55f",
   "metadata": {},
   "source": [
    "#### Question 4.1: Create a dictionary to store the following information: name - John Doe, age - 29, city - New York. Print each value using its key."
   ]
  },
  {
   "cell_type": "code",
   "execution_count": 13,
   "id": "2103a9a9",
   "metadata": {},
   "outputs": [],
   "source": [
    "my_dict = {'name' : 'John Doe' , 'age' : 29, 'city' : 'New York'}"
   ]
  },
  {
   "cell_type": "code",
   "execution_count": 14,
   "id": "a44818d5",
   "metadata": {},
   "outputs": [
    {
     "data": {
      "text/plain": [
       "{'name': 'John Doe', 'age': 29, 'city': 'New York'}"
      ]
     },
     "execution_count": 14,
     "metadata": {},
     "output_type": "execute_result"
    }
   ],
   "source": [
    "my_dict"
   ]
  },
  {
   "cell_type": "code",
   "execution_count": 15,
   "id": "43a0cec7",
   "metadata": {},
   "outputs": [
    {
     "data": {
      "text/plain": [
       "dict_keys(['name', 'age', 'city'])"
      ]
     },
     "execution_count": 15,
     "metadata": {},
     "output_type": "execute_result"
    }
   ],
   "source": [
    "my_dict.keys()"
   ]
  },
  {
   "cell_type": "code",
   "execution_count": 16,
   "id": "b6a43438",
   "metadata": {},
   "outputs": [
    {
     "name": "stdout",
     "output_type": "stream",
     "text": [
      "name: John Doe\n",
      "age: 29\n",
      "city: New York\n"
     ]
    }
   ],
   "source": [
    "for key, value in my_dict.items():\n",
    "    print (f'{key }: {value}')"
   ]
  },
  {
   "cell_type": "code",
   "execution_count": null,
   "id": "e0a34de1",
   "metadata": {},
   "outputs": [],
   "source": []
  },
  {
   "cell_type": "code",
   "execution_count": null,
   "id": "21c946f3",
   "metadata": {},
   "outputs": [],
   "source": []
  },
  {
   "cell_type": "markdown",
   "id": "e1f345aa",
   "metadata": {},
   "source": [
    "#### Question 5.1 (If-Else): Write a Python program that checks if a number stored in a variable is odd or even. Print an appropriate message to the screen."
   ]
  },
  {
   "cell_type": "code",
   "execution_count": 17,
   "id": "e0b3db43",
   "metadata": {},
   "outputs": [],
   "source": [
    "def check_number(n):\n",
    "    if n % 2 == 0:\n",
    "        print (f'The number {n} is EVEN')\n",
    "    else:\n",
    "        print (f'The number {n} is ODD')"
   ]
  },
  {
   "cell_type": "code",
   "execution_count": 18,
   "id": "9db78d5f",
   "metadata": {},
   "outputs": [
    {
     "name": "stdout",
     "output_type": "stream",
     "text": [
      "The number 5 is ODD\n"
     ]
    }
   ],
   "source": [
    "check_number(5)"
   ]
  },
  {
   "cell_type": "code",
   "execution_count": 19,
   "id": "df4aaf0d",
   "metadata": {},
   "outputs": [
    {
     "name": "stdout",
     "output_type": "stream",
     "text": [
      "The number 4 is EVEN\n"
     ]
    }
   ],
   "source": [
    "check_number(4)"
   ]
  },
  {
   "cell_type": "code",
   "execution_count": null,
   "id": "da515017",
   "metadata": {},
   "outputs": [],
   "source": []
  },
  {
   "cell_type": "markdown",
   "id": "a584f26f",
   "metadata": {},
   "source": [
    "#### Question 6.1: Write a lambda function to compute the square of a number and test it using the value 12."
   ]
  },
  {
   "cell_type": "code",
   "execution_count": 20,
   "id": "a55e4d31",
   "metadata": {},
   "outputs": [],
   "source": [
    "sqr = lambda x : x * x"
   ]
  },
  {
   "cell_type": "code",
   "execution_count": 21,
   "id": "bf460ab5",
   "metadata": {},
   "outputs": [
    {
     "data": {
      "text/plain": [
       "144"
      ]
     },
     "execution_count": 21,
     "metadata": {},
     "output_type": "execute_result"
    }
   ],
   "source": [
    "sqr(12)"
   ]
  },
  {
   "cell_type": "code",
   "execution_count": null,
   "id": "0018bcb0",
   "metadata": {},
   "outputs": [],
   "source": []
  },
  {
   "cell_type": "code",
   "execution_count": null,
   "id": "424f4794",
   "metadata": {},
   "outputs": [],
   "source": []
  },
  {
   "cell_type": "markdown",
   "id": "ab27941a",
   "metadata": {},
   "source": [
    "#### Question 6.2: Use a lambda function to filter and print all the even numbers from a list provided by the user."
   ]
  },
  {
   "cell_type": "code",
   "execution_count": 22,
   "id": "8482997c",
   "metadata": {},
   "outputs": [
    {
     "name": "stdout",
     "output_type": "stream",
     "text": [
      "Enter a comma-separated list of numbers: 1,2,3\n",
      "2\n"
     ]
    }
   ],
   "source": [
    "numbers_str = input(\"Enter a comma-separated list of numbers: \")\n",
    "numbers = [int(num) for num in numbers_str.split(\",\")]\n",
    "\n",
    "even_numbers = filter(lambda x: x % 2 == 0, numbers)\n",
    "\n",
    "for number in even_numbers:\n",
    "  print(number)"
   ]
  },
  {
   "cell_type": "code",
   "execution_count": null,
   "id": "e4416fa2",
   "metadata": {},
   "outputs": [],
   "source": []
  },
  {
   "cell_type": "markdown",
   "id": "b2cdd4c6",
   "metadata": {},
   "source": [
    "#### Question 7.1 (while): Write a program that prompts the user to enter a number nnn. Using a loop, the program should print all numbers from 1 to n−1n-1n−1."
   ]
  },
  {
   "cell_type": "code",
   "execution_count": 23,
   "id": "5078c39f",
   "metadata": {},
   "outputs": [
    {
     "name": "stdout",
     "output_type": "stream",
     "text": [
      "Enter a number: 7\n"
     ]
    }
   ],
   "source": [
    "n = int(input('Enter a number: '))"
   ]
  },
  {
   "cell_type": "code",
   "execution_count": 24,
   "id": "9fb3ba4c",
   "metadata": {},
   "outputs": [
    {
     "name": "stdout",
     "output_type": "stream",
     "text": [
      "1\n",
      "2\n",
      "3\n",
      "4\n",
      "5\n",
      "6\n"
     ]
    }
   ],
   "source": [
    "i = 1\n",
    "while i < n:\n",
    "    print (i)\n",
    "    i = i + 1"
   ]
  },
  {
   "cell_type": "code",
   "execution_count": null,
   "id": "6a271553",
   "metadata": {},
   "outputs": [],
   "source": []
  },
  {
   "cell_type": "code",
   "execution_count": null,
   "id": "edbf8b32",
   "metadata": {},
   "outputs": [],
   "source": []
  }
 ],
 "metadata": {
  "kernelspec": {
   "display_name": "Python 3 (ipykernel)",
   "language": "python",
   "name": "python3"
  },
  "language_info": {
   "codemirror_mode": {
    "name": "ipython",
    "version": 3
   },
   "file_extension": ".py",
   "mimetype": "text/x-python",
   "name": "python",
   "nbconvert_exporter": "python",
   "pygments_lexer": "ipython3",
   "version": "3.11.5"
  }
 },
 "nbformat": 4,
 "nbformat_minor": 5
}
