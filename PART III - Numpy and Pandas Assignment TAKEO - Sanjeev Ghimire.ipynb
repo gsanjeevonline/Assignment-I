{
 "cells": [
  {
   "cell_type": "raw",
   "id": "9941da4c",
   "metadata": {},
   "source": [
    "Part-3\n",
    "\n",
    "Numpy Questions:\n",
    "Create a 1D Numpy Array: Create a Numpy array containing numbers from 1 to 10.\n",
    "Create a 2D Numpy Array: Create a 2D Numpy array with shape (3, 4) filled with random integers.\n",
    "Array Slicing: Perform slicing on a Numpy array to extract elements from index 2 to index 5.\n",
    "Array Operations: Create two Numpy arrays of the same shape and perform element-wise addition.\n",
    "Pandas Questions:\n",
    "Create a Pandas Series: Create a Pandas Series from a list of 5 colors.\n",
    "Create a Pandas DataFrame: Create a Pandas DataFrame from a dictionary with columns 'Name', 'Age', and 'City' containing 5 rows of data.\n",
    "DataFrame Operations: Perform basic operations on the DataFrame like head(), tail(), describe(), and info().\n",
    "Filtering Data: Filter rows based on a specific condition, such as filtering rows where Age is greater than 30.\n",
    "Adding a New Column: Add a new column 'Salary' to the DataFrame with random salary values.\n"
   ]
  },
  {
   "cell_type": "markdown",
   "id": "fd01370a",
   "metadata": {},
   "source": [
    "### NUMPY Questions"
   ]
  },
  {
   "cell_type": "code",
   "execution_count": 1,
   "id": "bbfae41f",
   "metadata": {},
   "outputs": [],
   "source": [
    "import numpy as np"
   ]
  },
  {
   "cell_type": "markdown",
   "id": "b5ce469a",
   "metadata": {},
   "source": [
    "#### Create a 1D Numpy Array: Create a Numpy array containing numbers from 1 to 10."
   ]
  },
  {
   "cell_type": "code",
   "execution_count": 2,
   "id": "5b463a42",
   "metadata": {},
   "outputs": [],
   "source": [
    "array_1d = np.arange(1,11)"
   ]
  },
  {
   "cell_type": "code",
   "execution_count": 3,
   "id": "b7b361b0",
   "metadata": {},
   "outputs": [
    {
     "data": {
      "text/plain": [
       "array([ 1,  2,  3,  4,  5,  6,  7,  8,  9, 10])"
      ]
     },
     "execution_count": 3,
     "metadata": {},
     "output_type": "execute_result"
    }
   ],
   "source": [
    "array_1d"
   ]
  },
  {
   "cell_type": "code",
   "execution_count": null,
   "id": "83853659",
   "metadata": {},
   "outputs": [],
   "source": []
  },
  {
   "cell_type": "markdown",
   "id": "751c2c5e",
   "metadata": {},
   "source": [
    "#### Create a 2D Numpy Array: Create a 2D Numpy array with shape (3, 4) filled with random integers."
   ]
  },
  {
   "cell_type": "code",
   "execution_count": 4,
   "id": "21978c53",
   "metadata": {},
   "outputs": [],
   "source": [
    "array_2d = np.random.randint(1, 50, size=(3, 4))"
   ]
  },
  {
   "cell_type": "code",
   "execution_count": 5,
   "id": "8133a069",
   "metadata": {},
   "outputs": [
    {
     "data": {
      "text/plain": [
       "array([[36, 44,  3, 38],\n",
       "       [32, 19, 33, 25],\n",
       "       [38, 47, 18, 48]])"
      ]
     },
     "execution_count": 5,
     "metadata": {},
     "output_type": "execute_result"
    }
   ],
   "source": [
    "array_2d"
   ]
  },
  {
   "cell_type": "code",
   "execution_count": null,
   "id": "175698ac",
   "metadata": {},
   "outputs": [],
   "source": []
  },
  {
   "cell_type": "markdown",
   "id": "908ce5d0",
   "metadata": {},
   "source": [
    "#### Array Slicing: Perform slicing on a Numpy array to extract elements from index 2 to index 5.\n"
   ]
  },
  {
   "cell_type": "code",
   "execution_count": 6,
   "id": "4bae7a70",
   "metadata": {},
   "outputs": [],
   "source": [
    "sliced_array = array_2d[2:6]"
   ]
  },
  {
   "cell_type": "code",
   "execution_count": 7,
   "id": "9488d3da",
   "metadata": {},
   "outputs": [
    {
     "data": {
      "text/plain": [
       "array([[38, 47, 18, 48]])"
      ]
     },
     "execution_count": 7,
     "metadata": {},
     "output_type": "execute_result"
    }
   ],
   "source": [
    "sliced_array"
   ]
  },
  {
   "cell_type": "code",
   "execution_count": null,
   "id": "642b69b3",
   "metadata": {},
   "outputs": [],
   "source": []
  },
  {
   "cell_type": "markdown",
   "id": "13a2f100",
   "metadata": {},
   "source": [
    "#### Array Operations: Create two Numpy arrays of the same shape and perform element-wise addition.\n"
   ]
  },
  {
   "cell_type": "code",
   "execution_count": 9,
   "id": "b497587d",
   "metadata": {},
   "outputs": [],
   "source": [
    "arr_3d = np.random.randint(1,50,size=(2,3))"
   ]
  },
  {
   "cell_type": "code",
   "execution_count": 11,
   "id": "43439d50",
   "metadata": {},
   "outputs": [],
   "source": [
    "arr_4d = np.random.randint(1,50,size=(2,3))"
   ]
  },
  {
   "cell_type": "code",
   "execution_count": null,
   "id": "f5738beb",
   "metadata": {},
   "outputs": [],
   "source": []
  },
  {
   "cell_type": "markdown",
   "id": "4f3921c0",
   "metadata": {},
   "source": [
    "## Pandas Questions:"
   ]
  },
  {
   "cell_type": "markdown",
   "id": "0601347a",
   "metadata": {},
   "source": [
    "#### Create a Pandas Series: Create a Pandas Series from a list of 5 colors.\n"
   ]
  },
  {
   "cell_type": "code",
   "execution_count": 1,
   "id": "2aef04d0",
   "metadata": {},
   "outputs": [],
   "source": [
    "import pandas as pd"
   ]
  },
  {
   "cell_type": "code",
   "execution_count": 5,
   "id": "a72c19da",
   "metadata": {},
   "outputs": [],
   "source": [
    "data = ['red','green','blue','black','white']"
   ]
  },
  {
   "cell_type": "code",
   "execution_count": 7,
   "id": "b72c1651",
   "metadata": {},
   "outputs": [],
   "source": [
    "df = pd.Series(data)"
   ]
  },
  {
   "cell_type": "code",
   "execution_count": 8,
   "id": "2312ecfd",
   "metadata": {},
   "outputs": [
    {
     "data": {
      "text/plain": [
       "0      red\n",
       "1    green\n",
       "2     blue\n",
       "3    black\n",
       "4    white\n",
       "dtype: object"
      ]
     },
     "execution_count": 8,
     "metadata": {},
     "output_type": "execute_result"
    }
   ],
   "source": [
    "df"
   ]
  },
  {
   "cell_type": "code",
   "execution_count": null,
   "id": "95669baa",
   "metadata": {},
   "outputs": [],
   "source": []
  },
  {
   "cell_type": "markdown",
   "id": "9efa422f",
   "metadata": {},
   "source": [
    "#### Create a Pandas DataFrame: Create a Pandas DataFrame from a dictionary with columns 'Name', 'Age', and 'City' containing 5 rows of data."
   ]
  },
  {
   "cell_type": "code",
   "execution_count": 10,
   "id": "70648626",
   "metadata": {},
   "outputs": [],
   "source": [
    "# d = {'col1': [1, 2], 'col2': [3, 4]}\n",
    "# df = pd.DataFrame(data=d)\n",
    "details = {'Name':['ABBEY','BOB','CHANG','DANIAL','EVAN'], 'Age':[21,34,56,32,57], 'City':['New York','Paris','New Jersey','Amsterdam','Berlin']}"
   ]
  },
  {
   "cell_type": "code",
   "execution_count": 12,
   "id": "6f39cad1",
   "metadata": {},
   "outputs": [],
   "source": [
    "df = pd.DataFrame(data=details)"
   ]
  },
  {
   "cell_type": "code",
   "execution_count": 13,
   "id": "6de6fb67",
   "metadata": {},
   "outputs": [
    {
     "data": {
      "text/html": [
       "<div>\n",
       "<style scoped>\n",
       "    .dataframe tbody tr th:only-of-type {\n",
       "        vertical-align: middle;\n",
       "    }\n",
       "\n",
       "    .dataframe tbody tr th {\n",
       "        vertical-align: top;\n",
       "    }\n",
       "\n",
       "    .dataframe thead th {\n",
       "        text-align: right;\n",
       "    }\n",
       "</style>\n",
       "<table border=\"1\" class=\"dataframe\">\n",
       "  <thead>\n",
       "    <tr style=\"text-align: right;\">\n",
       "      <th></th>\n",
       "      <th>Name</th>\n",
       "      <th>Age</th>\n",
       "      <th>City</th>\n",
       "    </tr>\n",
       "  </thead>\n",
       "  <tbody>\n",
       "    <tr>\n",
       "      <th>0</th>\n",
       "      <td>ABBEY</td>\n",
       "      <td>21</td>\n",
       "      <td>New York</td>\n",
       "    </tr>\n",
       "    <tr>\n",
       "      <th>1</th>\n",
       "      <td>BOB</td>\n",
       "      <td>34</td>\n",
       "      <td>Paris</td>\n",
       "    </tr>\n",
       "    <tr>\n",
       "      <th>2</th>\n",
       "      <td>CHANG</td>\n",
       "      <td>56</td>\n",
       "      <td>New Jersey</td>\n",
       "    </tr>\n",
       "    <tr>\n",
       "      <th>3</th>\n",
       "      <td>DANIAL</td>\n",
       "      <td>32</td>\n",
       "      <td>Amsterdam</td>\n",
       "    </tr>\n",
       "    <tr>\n",
       "      <th>4</th>\n",
       "      <td>EVAN</td>\n",
       "      <td>57</td>\n",
       "      <td>Berlin</td>\n",
       "    </tr>\n",
       "  </tbody>\n",
       "</table>\n",
       "</div>"
      ],
      "text/plain": [
       "     Name  Age        City\n",
       "0   ABBEY   21    New York\n",
       "1     BOB   34       Paris\n",
       "2   CHANG   56  New Jersey\n",
       "3  DANIAL   32   Amsterdam\n",
       "4    EVAN   57      Berlin"
      ]
     },
     "execution_count": 13,
     "metadata": {},
     "output_type": "execute_result"
    }
   ],
   "source": [
    "df"
   ]
  },
  {
   "cell_type": "code",
   "execution_count": null,
   "id": "d8d97bd9",
   "metadata": {},
   "outputs": [],
   "source": []
  },
  {
   "cell_type": "markdown",
   "id": "70e89110",
   "metadata": {},
   "source": [
    "#### DataFrame Operations: Perform basic operations on the DataFrame like head(), tail(), describe(), and info()."
   ]
  },
  {
   "cell_type": "code",
   "execution_count": 17,
   "id": "aa4a98e9",
   "metadata": {},
   "outputs": [
    {
     "data": {
      "text/html": [
       "<div>\n",
       "<style scoped>\n",
       "    .dataframe tbody tr th:only-of-type {\n",
       "        vertical-align: middle;\n",
       "    }\n",
       "\n",
       "    .dataframe tbody tr th {\n",
       "        vertical-align: top;\n",
       "    }\n",
       "\n",
       "    .dataframe thead th {\n",
       "        text-align: right;\n",
       "    }\n",
       "</style>\n",
       "<table border=\"1\" class=\"dataframe\">\n",
       "  <thead>\n",
       "    <tr style=\"text-align: right;\">\n",
       "      <th></th>\n",
       "      <th>Name</th>\n",
       "      <th>Age</th>\n",
       "      <th>City</th>\n",
       "    </tr>\n",
       "  </thead>\n",
       "  <tbody>\n",
       "    <tr>\n",
       "      <th>0</th>\n",
       "      <td>ABBEY</td>\n",
       "      <td>21</td>\n",
       "      <td>New York</td>\n",
       "    </tr>\n",
       "    <tr>\n",
       "      <th>1</th>\n",
       "      <td>BOB</td>\n",
       "      <td>34</td>\n",
       "      <td>Paris</td>\n",
       "    </tr>\n",
       "  </tbody>\n",
       "</table>\n",
       "</div>"
      ],
      "text/plain": [
       "    Name  Age      City\n",
       "0  ABBEY   21  New York\n",
       "1    BOB   34     Paris"
      ]
     },
     "execution_count": 17,
     "metadata": {},
     "output_type": "execute_result"
    }
   ],
   "source": [
    "df.head(2)"
   ]
  },
  {
   "cell_type": "code",
   "execution_count": 16,
   "id": "7cc37898",
   "metadata": {},
   "outputs": [
    {
     "data": {
      "text/html": [
       "<div>\n",
       "<style scoped>\n",
       "    .dataframe tbody tr th:only-of-type {\n",
       "        vertical-align: middle;\n",
       "    }\n",
       "\n",
       "    .dataframe tbody tr th {\n",
       "        vertical-align: top;\n",
       "    }\n",
       "\n",
       "    .dataframe thead th {\n",
       "        text-align: right;\n",
       "    }\n",
       "</style>\n",
       "<table border=\"1\" class=\"dataframe\">\n",
       "  <thead>\n",
       "    <tr style=\"text-align: right;\">\n",
       "      <th></th>\n",
       "      <th>Name</th>\n",
       "      <th>Age</th>\n",
       "      <th>City</th>\n",
       "    </tr>\n",
       "  </thead>\n",
       "  <tbody>\n",
       "    <tr>\n",
       "      <th>3</th>\n",
       "      <td>DANIAL</td>\n",
       "      <td>32</td>\n",
       "      <td>Amsterdam</td>\n",
       "    </tr>\n",
       "    <tr>\n",
       "      <th>4</th>\n",
       "      <td>EVAN</td>\n",
       "      <td>57</td>\n",
       "      <td>Berlin</td>\n",
       "    </tr>\n",
       "  </tbody>\n",
       "</table>\n",
       "</div>"
      ],
      "text/plain": [
       "     Name  Age       City\n",
       "3  DANIAL   32  Amsterdam\n",
       "4    EVAN   57     Berlin"
      ]
     },
     "execution_count": 16,
     "metadata": {},
     "output_type": "execute_result"
    }
   ],
   "source": [
    "df.tail(2)"
   ]
  },
  {
   "cell_type": "code",
   "execution_count": 19,
   "id": "95e41de3",
   "metadata": {},
   "outputs": [
    {
     "data": {
      "text/html": [
       "<div>\n",
       "<style scoped>\n",
       "    .dataframe tbody tr th:only-of-type {\n",
       "        vertical-align: middle;\n",
       "    }\n",
       "\n",
       "    .dataframe tbody tr th {\n",
       "        vertical-align: top;\n",
       "    }\n",
       "\n",
       "    .dataframe thead th {\n",
       "        text-align: right;\n",
       "    }\n",
       "</style>\n",
       "<table border=\"1\" class=\"dataframe\">\n",
       "  <thead>\n",
       "    <tr style=\"text-align: right;\">\n",
       "      <th></th>\n",
       "      <th>Age</th>\n",
       "    </tr>\n",
       "  </thead>\n",
       "  <tbody>\n",
       "    <tr>\n",
       "      <th>count</th>\n",
       "      <td>5.000000</td>\n",
       "    </tr>\n",
       "    <tr>\n",
       "      <th>mean</th>\n",
       "      <td>40.000000</td>\n",
       "    </tr>\n",
       "    <tr>\n",
       "      <th>std</th>\n",
       "      <td>15.858752</td>\n",
       "    </tr>\n",
       "    <tr>\n",
       "      <th>min</th>\n",
       "      <td>21.000000</td>\n",
       "    </tr>\n",
       "    <tr>\n",
       "      <th>25%</th>\n",
       "      <td>32.000000</td>\n",
       "    </tr>\n",
       "    <tr>\n",
       "      <th>50%</th>\n",
       "      <td>34.000000</td>\n",
       "    </tr>\n",
       "    <tr>\n",
       "      <th>75%</th>\n",
       "      <td>56.000000</td>\n",
       "    </tr>\n",
       "    <tr>\n",
       "      <th>max</th>\n",
       "      <td>57.000000</td>\n",
       "    </tr>\n",
       "  </tbody>\n",
       "</table>\n",
       "</div>"
      ],
      "text/plain": [
       "             Age\n",
       "count   5.000000\n",
       "mean   40.000000\n",
       "std    15.858752\n",
       "min    21.000000\n",
       "25%    32.000000\n",
       "50%    34.000000\n",
       "75%    56.000000\n",
       "max    57.000000"
      ]
     },
     "execution_count": 19,
     "metadata": {},
     "output_type": "execute_result"
    }
   ],
   "source": [
    "df.describe()"
   ]
  },
  {
   "cell_type": "code",
   "execution_count": 20,
   "id": "3c4b7de3",
   "metadata": {},
   "outputs": [
    {
     "name": "stdout",
     "output_type": "stream",
     "text": [
      "<class 'pandas.core.frame.DataFrame'>\n",
      "RangeIndex: 5 entries, 0 to 4\n",
      "Data columns (total 3 columns):\n",
      " #   Column  Non-Null Count  Dtype \n",
      "---  ------  --------------  ----- \n",
      " 0   Name    5 non-null      object\n",
      " 1   Age     5 non-null      int64 \n",
      " 2   City    5 non-null      object\n",
      "dtypes: int64(1), object(2)\n",
      "memory usage: 252.0+ bytes\n"
     ]
    }
   ],
   "source": [
    "df.info()"
   ]
  },
  {
   "cell_type": "code",
   "execution_count": null,
   "id": "b34f64cb",
   "metadata": {},
   "outputs": [],
   "source": []
  },
  {
   "cell_type": "markdown",
   "id": "8c5f1b27",
   "metadata": {},
   "source": [
    "#### Filtering Data: Filter rows based on a specific condition, such as filtering rows where Age is greater than 30."
   ]
  },
  {
   "cell_type": "code",
   "execution_count": 25,
   "id": "5ac62e5b",
   "metadata": {},
   "outputs": [],
   "source": [
    "filtered_age = df[df['Age']> 30]"
   ]
  },
  {
   "cell_type": "code",
   "execution_count": 26,
   "id": "7f4985a6",
   "metadata": {},
   "outputs": [
    {
     "data": {
      "text/html": [
       "<div>\n",
       "<style scoped>\n",
       "    .dataframe tbody tr th:only-of-type {\n",
       "        vertical-align: middle;\n",
       "    }\n",
       "\n",
       "    .dataframe tbody tr th {\n",
       "        vertical-align: top;\n",
       "    }\n",
       "\n",
       "    .dataframe thead th {\n",
       "        text-align: right;\n",
       "    }\n",
       "</style>\n",
       "<table border=\"1\" class=\"dataframe\">\n",
       "  <thead>\n",
       "    <tr style=\"text-align: right;\">\n",
       "      <th></th>\n",
       "      <th>Name</th>\n",
       "      <th>Age</th>\n",
       "      <th>City</th>\n",
       "    </tr>\n",
       "  </thead>\n",
       "  <tbody>\n",
       "    <tr>\n",
       "      <th>1</th>\n",
       "      <td>BOB</td>\n",
       "      <td>34</td>\n",
       "      <td>Paris</td>\n",
       "    </tr>\n",
       "    <tr>\n",
       "      <th>2</th>\n",
       "      <td>CHANG</td>\n",
       "      <td>56</td>\n",
       "      <td>New Jersey</td>\n",
       "    </tr>\n",
       "    <tr>\n",
       "      <th>3</th>\n",
       "      <td>DANIAL</td>\n",
       "      <td>32</td>\n",
       "      <td>Amsterdam</td>\n",
       "    </tr>\n",
       "    <tr>\n",
       "      <th>4</th>\n",
       "      <td>EVAN</td>\n",
       "      <td>57</td>\n",
       "      <td>Berlin</td>\n",
       "    </tr>\n",
       "  </tbody>\n",
       "</table>\n",
       "</div>"
      ],
      "text/plain": [
       "     Name  Age        City\n",
       "1     BOB   34       Paris\n",
       "2   CHANG   56  New Jersey\n",
       "3  DANIAL   32   Amsterdam\n",
       "4    EVAN   57      Berlin"
      ]
     },
     "execution_count": 26,
     "metadata": {},
     "output_type": "execute_result"
    }
   ],
   "source": [
    "filtered_age"
   ]
  },
  {
   "cell_type": "code",
   "execution_count": null,
   "id": "bb6eb532",
   "metadata": {},
   "outputs": [],
   "source": []
  }
 ],
 "metadata": {
  "kernelspec": {
   "display_name": "Python 3 (ipykernel)",
   "language": "python",
   "name": "python3"
  },
  "language_info": {
   "codemirror_mode": {
    "name": "ipython",
    "version": 3
   },
   "file_extension": ".py",
   "mimetype": "text/x-python",
   "name": "python",
   "nbconvert_exporter": "python",
   "pygments_lexer": "ipython3",
   "version": "3.11.5"
  }
 },
 "nbformat": 4,
 "nbformat_minor": 5
}
