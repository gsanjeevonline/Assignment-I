{
 "cells": [
  {
   "cell_type": "raw",
   "id": "c6fea91c",
   "metadata": {},
   "source": [
    "Part 4: \n",
    "List:\n",
    "Create a list of 5 fruits and print the third fruit in the list.\n",
    "Add two new elements to the list and print the updated list.\n",
    "Remove the last element from the list and print the list.\n",
    "Check if 'Apple' is in the list and print the result as a boolean value.\n",
    "Tuple:\n",
    "Create a tuple with 3 elements and print the second element.\n",
    "Try to change an element in the tuple and observe the error.\n",
    "Concatenate two tuples and print the result.\n",
    "Set:\n",
    "Create two sets with some common elements and perform a union operation.\n",
    "Find the intersection of the two sets.\n",
    "Add a new element to a set and print the updated set.\n",
    "Dictionary:\n",
    "Create a dictionary with 5 key-value pairs representing student names and their scores.\n",
    "Print all keys from the dictionary.\n",
    "Update the score of one student and print the updated dictionary.\n",
    "Numpy:\n",
    "Create a 1D Numpy array with 5 elements and print the array.\n",
    "Perform element-wise multiplication of two Numpy arrays.\n",
    "Calculate the mean of the Numpy array.\n",
    "Pandas:\n",
    "Create a Pandas Series from a list of 5 cities and print the series.\n",
    "Create a Pandas DataFrame from a dictionary with columns 'Name', 'Age', and 'City' containing 3 rows of data.\n",
    "Sort the DataFrame based on the 'Age' column.\n",
    "Lambda Function:\n",
    "Write a lambda function to double a given number.\n",
    "Write a lambda function to check if a number is even or odd.\n",
    "Use the lambda function to filter a list of numbers and print only the even numbers.\n"
   ]
  },
  {
   "cell_type": "markdown",
   "id": "ab310472",
   "metadata": {},
   "source": [
    "### PART 4"
   ]
  },
  {
   "cell_type": "markdown",
   "id": "8734b73f",
   "metadata": {},
   "source": [
    "## LIST"
   ]
  },
  {
   "cell_type": "code",
   "execution_count": 1,
   "id": "627fc1bd",
   "metadata": {},
   "outputs": [
    {
     "data": {
      "text/plain": [
       "'Egg Plant'"
      ]
     },
     "execution_count": 1,
     "metadata": {},
     "output_type": "execute_result"
    }
   ],
   "source": [
    "# Create a list of 5 fruits and print the third fruit in the list.\n",
    "\n",
    "fruits = ['Apple','Banana','Cherry','Dragon Fruit','Egg Plant']\n",
    "fruits[4]\n",
    "\n"
   ]
  },
  {
   "cell_type": "code",
   "execution_count": 2,
   "id": "b443dff9",
   "metadata": {},
   "outputs": [
    {
     "data": {
      "text/plain": [
       "['Apple', 'Banana', 'Cherry', 'Dragon Fruit', 'Egg Plant', 'Mango', 'Orange']"
      ]
     },
     "execution_count": 2,
     "metadata": {},
     "output_type": "execute_result"
    }
   ],
   "source": [
    "# Add two new elements to the list and print the updated list.\n",
    "add_fruits = ['Mango','Orange']\n",
    "fruits.extend(add_fruits)\n",
    "fruits\n",
    "\n"
   ]
  },
  {
   "cell_type": "code",
   "execution_count": 3,
   "id": "2e9c7e42",
   "metadata": {},
   "outputs": [
    {
     "data": {
      "text/plain": [
       "['Apple', 'Banana', 'Cherry', 'Dragon Fruit', 'Egg Plant', 'Mango']"
      ]
     },
     "execution_count": 3,
     "metadata": {},
     "output_type": "execute_result"
    }
   ],
   "source": [
    "# Remove the last element from the list and print the list.\n",
    "\n",
    "fruits.pop()\n",
    "fruits\n"
   ]
  },
  {
   "cell_type": "code",
   "execution_count": 4,
   "id": "75a3503e",
   "metadata": {},
   "outputs": [
    {
     "name": "stdout",
     "output_type": "stream",
     "text": [
      "True\n"
     ]
    }
   ],
   "source": [
    "# Check if 'Apple' is in the list and print the result as a boolean value.\n",
    "\n",
    "for fruit in fruits:\n",
    "    if 'Apple' in fruits:\n",
    "        print (True)\n",
    "        break\n"
   ]
  },
  {
   "cell_type": "code",
   "execution_count": null,
   "id": "808da89c",
   "metadata": {},
   "outputs": [],
   "source": []
  },
  {
   "cell_type": "markdown",
   "id": "5136d55a",
   "metadata": {},
   "source": [
    "### TUPLE"
   ]
  },
  {
   "cell_type": "code",
   "execution_count": 5,
   "id": "12868f0b",
   "metadata": {},
   "outputs": [
    {
     "name": "stdout",
     "output_type": "stream",
     "text": [
      "Silver\n"
     ]
    }
   ],
   "source": [
    "# Create a tuple with 3 elements and print the second element.\n",
    "\n",
    "my_tuple = ('Bronze','Silver','Gold')\n",
    "\n",
    "print(my_tuple[1])\n",
    "\n"
   ]
  },
  {
   "cell_type": "code",
   "execution_count": 6,
   "id": "a5683cf7",
   "metadata": {},
   "outputs": [],
   "source": [
    "# Try to change an element in the tuple and observe the error.\n",
    "\n",
    "# my_tuple[1] = 'Diamond'\n",
    "\n",
    "# TypeError                                 Traceback (most recent call last)\n",
    "# Cell In[25], line 3\n",
    "#       1 # Try to change an element in the tuple and observe the error.\n",
    "# ----> 3 my_tuple[1] = 'Diamond'\n",
    "\n",
    "# TypeError: 'tuple' object does not support item assignment\n"
   ]
  },
  {
   "cell_type": "code",
   "execution_count": 7,
   "id": "63427952",
   "metadata": {},
   "outputs": [
    {
     "name": "stdout",
     "output_type": "stream",
     "text": [
      "('Bronze', 'Silver', 'Gold', 'Diamond')\n"
     ]
    }
   ],
   "source": [
    "# Concatenate two tuples and print the result.\n",
    "\n",
    "my_second_tuple = ('Diamond',)\n",
    "\n",
    "my_tuple += my_second_tuple\n",
    "\n",
    "print(my_tuple)\n",
    "\n",
    "\n"
   ]
  },
  {
   "cell_type": "code",
   "execution_count": null,
   "id": "48b68047",
   "metadata": {},
   "outputs": [],
   "source": []
  },
  {
   "cell_type": "markdown",
   "id": "174ea1c1",
   "metadata": {},
   "source": [
    "## SET\n"
   ]
  },
  {
   "cell_type": "code",
   "execution_count": 8,
   "id": "edba3afb",
   "metadata": {},
   "outputs": [
    {
     "data": {
      "text/plain": [
       "{37, 38.26, 'Danial', 'Jack', True, 'USA'}"
      ]
     },
     "execution_count": 8,
     "metadata": {},
     "output_type": "execute_result"
    }
   ],
   "source": [
    "# Create two sets with some common elements and perform a union operation.\n",
    "\n",
    "set1 = {'Jack','Danial',37, True}\n",
    "set2 = {'USA', 38.26, True }\n",
    "\n",
    "set3 = set1.union(set2)\n",
    "set3\n",
    "\n"
   ]
  },
  {
   "cell_type": "code",
   "execution_count": 9,
   "id": "23758378",
   "metadata": {},
   "outputs": [
    {
     "data": {
      "text/plain": [
       "{True}"
      ]
     },
     "execution_count": 9,
     "metadata": {},
     "output_type": "execute_result"
    }
   ],
   "source": [
    "# Find the intersection of the two sets.\n",
    "\n",
    "set4 = set1.intersection(set2)\n",
    "\n",
    "set4\n"
   ]
  },
  {
   "cell_type": "code",
   "execution_count": 10,
   "id": "7835431a",
   "metadata": {},
   "outputs": [
    {
     "data": {
      "text/plain": [
       "{0.99, 37, 38.26, 'Danial', False, 'Frisco', 'Jack', True, 'USA'}"
      ]
     },
     "execution_count": 10,
     "metadata": {},
     "output_type": "execute_result"
    }
   ],
   "source": [
    "# Add a new element to a set and print the updated set.\n",
    "\n",
    "set5 = {37, 38.26, 'Danial', 'Jack', True, 'USA'}\n",
    "set6 = {False, 00.99, 'Frisco'}\n",
    "\n",
    "set5.update(set6)\n",
    "\n",
    "set5\n"
   ]
  },
  {
   "cell_type": "code",
   "execution_count": null,
   "id": "7310205b",
   "metadata": {},
   "outputs": [],
   "source": []
  },
  {
   "cell_type": "markdown",
   "id": "cd9c9629",
   "metadata": {},
   "source": [
    "### DICTIONARY"
   ]
  },
  {
   "cell_type": "code",
   "execution_count": 11,
   "id": "06dceb50",
   "metadata": {},
   "outputs": [
    {
     "data": {
      "text/plain": [
       "{'Full Name': 'John Smith',\n",
       " 'State': 'Lousiana',\n",
       " 'Grade': 7,\n",
       " 'Percentage(%)': 73.25,\n",
       " 'Promoted!': True}"
      ]
     },
     "execution_count": 11,
     "metadata": {},
     "output_type": "execute_result"
    }
   ],
   "source": [
    "\n",
    "# Create a dictionary with 5 key-value pairs representing student names and their scores.\n",
    "\n",
    "my_dict = {\n",
    " 'Full Name': 'John Smith', \n",
    " 'State' : 'Lousiana', \n",
    " 'Grade': 7, \n",
    " 'Percentage(%)':73.25, \n",
    " 'Promoted!' : True\n",
    "}\n",
    "\n",
    "my_dict\n"
   ]
  },
  {
   "cell_type": "code",
   "execution_count": 12,
   "id": "0f1f0b88",
   "metadata": {},
   "outputs": [
    {
     "data": {
      "text/plain": [
       "dict_keys(['Full Name', 'State', 'Grade', 'Percentage(%)', 'Promoted!'])"
      ]
     },
     "execution_count": 12,
     "metadata": {},
     "output_type": "execute_result"
    }
   ],
   "source": [
    "# Print all keys from the dictionary.\n",
    "\n",
    "my_dict.keys()\n"
   ]
  },
  {
   "cell_type": "code",
   "execution_count": 13,
   "id": "6fd66ddf",
   "metadata": {},
   "outputs": [
    {
     "data": {
      "text/plain": [
       "{'Full Name': 'John Smith',\n",
       " 'State': 'Lousiana',\n",
       " 'Grade': 7,\n",
       " 'Percentage(%)': 73.25,\n",
       " 'Promoted!': True,\n",
       " 'Score': 657}"
      ]
     },
     "execution_count": 13,
     "metadata": {},
     "output_type": "execute_result"
    }
   ],
   "source": [
    "# Update the score of one student and print the updated dictionary.\n",
    "\n",
    "my_dict.update({'Score': 657})\n",
    "my_dict"
   ]
  },
  {
   "cell_type": "code",
   "execution_count": null,
   "id": "7c530b7a",
   "metadata": {},
   "outputs": [],
   "source": []
  },
  {
   "cell_type": "markdown",
   "id": "998f4128",
   "metadata": {},
   "source": [
    "### NUMPY"
   ]
  },
  {
   "cell_type": "code",
   "execution_count": 14,
   "id": "0df40f5e",
   "metadata": {},
   "outputs": [
    {
     "data": {
      "text/plain": [
       "array([1, 2, 3, 4, 5])"
      ]
     },
     "execution_count": 14,
     "metadata": {},
     "output_type": "execute_result"
    }
   ],
   "source": [
    "import numpy as np\n",
    "\n",
    "# Create a 1D Numpy array with 5 elements and print the array.\n",
    "\n",
    "\n",
    "myarr1 = np.array([1,2,3,4,5])\n",
    "\n",
    "myarr1\n"
   ]
  },
  {
   "cell_type": "code",
   "execution_count": 15,
   "id": "05cd02ef",
   "metadata": {},
   "outputs": [
    {
     "data": {
      "text/plain": [
       "array([[1., 2., 3., 4., 5.]])"
      ]
     },
     "execution_count": 15,
     "metadata": {},
     "output_type": "execute_result"
    }
   ],
   "source": [
    "# Perform element-wise multiplication of two Numpy arrays.\n",
    "\n",
    "myarr2 = np.ones((1,5))\n",
    "\n",
    "myarr3 = myarr1*myarr2\n",
    "\n",
    "myarr3"
   ]
  },
  {
   "cell_type": "code",
   "execution_count": 16,
   "id": "3a1bfc81",
   "metadata": {},
   "outputs": [
    {
     "data": {
      "text/plain": [
       "3.0"
      ]
     },
     "execution_count": 16,
     "metadata": {},
     "output_type": "execute_result"
    }
   ],
   "source": [
    "# Calculate the mean of the Numpy array.\n",
    "\n",
    "myarr3.mean()\n"
   ]
  },
  {
   "cell_type": "code",
   "execution_count": null,
   "id": "8cf858c0",
   "metadata": {},
   "outputs": [],
   "source": []
  },
  {
   "cell_type": "markdown",
   "id": "875986e3",
   "metadata": {},
   "source": [
    "### PANDAS"
   ]
  },
  {
   "cell_type": "code",
   "execution_count": 17,
   "id": "209142f8",
   "metadata": {},
   "outputs": [
    {
     "data": {
      "text/plain": [
       "0           Arizona\n",
       "1            Berlin\n",
       "2           Chicago\n",
       "3           Detroit\n",
       "4    Easter Islands\n",
       "dtype: object"
      ]
     },
     "execution_count": 17,
     "metadata": {},
     "output_type": "execute_result"
    }
   ],
   "source": [
    "import pandas as pd\n",
    "\n",
    "# Create a Pandas Series from a list of 5 cities and print the series.\n",
    "\n",
    "df = pd.Series(['Arizona','Berlin','Chicago','Detroit','Easter Islands'])\n",
    "\n",
    "df\n"
   ]
  },
  {
   "cell_type": "code",
   "execution_count": 18,
   "id": "9676cf0f",
   "metadata": {},
   "outputs": [
    {
     "data": {
      "text/plain": [
       "[{'Name': 'Adam Smith', 'Age': 37, 'City': 'Tokyo'},\n",
       " {'Name': 'Jack Johnson', 'Age': 12, 'City': 'Johanesburg'},\n",
       " {'Name': 'Angela Merkel', 'Age': 66, 'City': 'Berlin '}]"
      ]
     },
     "execution_count": 18,
     "metadata": {},
     "output_type": "execute_result"
    }
   ],
   "source": [
    "# Create a Pandas DataFrame from a dictionary with columns 'Name', 'Age', and 'City' containing 3 rows of data.\n",
    "\n",
    "df1 = ([{'Name': 'Adam Smith', 'Age' : 37, 'City' : 'Tokyo'}])\n",
    "df2 = ([{'Name': 'Jack Johnson', 'Age' : 12, 'City' : 'Johanesburg'}])\n",
    "df3 = ([{'Name': 'Angela Merkel', 'Age' : 66, 'City' : 'Berlin '}])\n",
    "\n",
    "\n",
    "df4 = df1 + df2 + df3\n",
    "\n",
    "df4\n"
   ]
  },
  {
   "cell_type": "code",
   "execution_count": 19,
   "id": "fda59cdd",
   "metadata": {},
   "outputs": [],
   "source": [
    "# Sort the DataFrame based on the 'Age' column."
   ]
  },
  {
   "cell_type": "code",
   "execution_count": 20,
   "id": "f0e915ba",
   "metadata": {},
   "outputs": [],
   "source": [
    "data = {\n",
    "    'Name': ['Alice', 'Bob', 'Charlie', 'David', 'Eve'],\n",
    "    'Age': [25, 35, 45, 20, 32],\n",
    "    'City': ['Berlin','Tokyo','New Orleans', 'San Francisco', 'Florida']\n",
    "}\n",
    "df = pd.DataFrame(data)"
   ]
  },
  {
   "cell_type": "code",
   "execution_count": 21,
   "id": "7acb1621",
   "metadata": {},
   "outputs": [
    {
     "data": {
      "text/html": [
       "<div>\n",
       "<style scoped>\n",
       "    .dataframe tbody tr th:only-of-type {\n",
       "        vertical-align: middle;\n",
       "    }\n",
       "\n",
       "    .dataframe tbody tr th {\n",
       "        vertical-align: top;\n",
       "    }\n",
       "\n",
       "    .dataframe thead th {\n",
       "        text-align: right;\n",
       "    }\n",
       "</style>\n",
       "<table border=\"1\" class=\"dataframe\">\n",
       "  <thead>\n",
       "    <tr style=\"text-align: right;\">\n",
       "      <th></th>\n",
       "      <th>Name</th>\n",
       "      <th>Age</th>\n",
       "      <th>City</th>\n",
       "    </tr>\n",
       "  </thead>\n",
       "  <tbody>\n",
       "    <tr>\n",
       "      <th>3</th>\n",
       "      <td>David</td>\n",
       "      <td>20</td>\n",
       "      <td>San Francisco</td>\n",
       "    </tr>\n",
       "    <tr>\n",
       "      <th>0</th>\n",
       "      <td>Alice</td>\n",
       "      <td>25</td>\n",
       "      <td>Berlin</td>\n",
       "    </tr>\n",
       "    <tr>\n",
       "      <th>4</th>\n",
       "      <td>Eve</td>\n",
       "      <td>32</td>\n",
       "      <td>Florida</td>\n",
       "    </tr>\n",
       "    <tr>\n",
       "      <th>1</th>\n",
       "      <td>Bob</td>\n",
       "      <td>35</td>\n",
       "      <td>Tokyo</td>\n",
       "    </tr>\n",
       "    <tr>\n",
       "      <th>2</th>\n",
       "      <td>Charlie</td>\n",
       "      <td>45</td>\n",
       "      <td>New Orleans</td>\n",
       "    </tr>\n",
       "  </tbody>\n",
       "</table>\n",
       "</div>"
      ],
      "text/plain": [
       "      Name  Age           City\n",
       "3    David   20  San Francisco\n",
       "0    Alice   25         Berlin\n",
       "4      Eve   32        Florida\n",
       "1      Bob   35          Tokyo\n",
       "2  Charlie   45    New Orleans"
      ]
     },
     "execution_count": 21,
     "metadata": {},
     "output_type": "execute_result"
    }
   ],
   "source": [
    "df.sort_values(by='Age')"
   ]
  },
  {
   "cell_type": "code",
   "execution_count": null,
   "id": "1800af93",
   "metadata": {},
   "outputs": [],
   "source": []
  },
  {
   "cell_type": "markdown",
   "id": "f2e4dbe7",
   "metadata": {},
   "source": [
    "### LAMBDA \n"
   ]
  },
  {
   "cell_type": "code",
   "execution_count": 22,
   "id": "1e331491",
   "metadata": {},
   "outputs": [
    {
     "name": "stdout",
     "output_type": "stream",
     "text": [
      "20\n",
      "44\n",
      "0.04\n"
     ]
    }
   ],
   "source": [
    "# Write a lambda function to double a given number.\n",
    "\n",
    "y = lambda x : x * 2\n",
    "\n",
    "print(y(10))\n",
    "print(y(22))\n",
    "print(y(0.02))\n"
   ]
  },
  {
   "cell_type": "code",
   "execution_count": 23,
   "id": "cd29c66f",
   "metadata": {},
   "outputs": [
    {
     "name": "stdout",
     "output_type": "stream",
     "text": [
      "False\n",
      "True\n"
     ]
    }
   ],
   "source": [
    "# Write a lambda function to check if a number is even or odd.\n",
    "\n",
    "check_num = lambda x : x % 2 == 0\n",
    "\n",
    "print(check_num(3))\n",
    "print(check_num(2))"
   ]
  },
  {
   "cell_type": "code",
   "execution_count": 24,
   "id": "1d43e0e2",
   "metadata": {},
   "outputs": [],
   "source": [
    "# Use the lambda function to filter a list of numbers and print only the even numbers."
   ]
  },
  {
   "cell_type": "code",
   "execution_count": 25,
   "id": "13012f92",
   "metadata": {},
   "outputs": [
    {
     "name": "stdout",
     "output_type": "stream",
     "text": [
      "[2, 4, 6, 8]\n"
     ]
    }
   ],
   "source": [
    "list1 = [1,2,3,4,5,6,7,8,9]\n",
    "\n",
    "check_even = list(filter(lambda x : x % 2 == 0, list1))\n",
    "\n",
    "print(check_even)\n"
   ]
  },
  {
   "cell_type": "code",
   "execution_count": null,
   "id": "8cd69fbd",
   "metadata": {},
   "outputs": [],
   "source": []
  }
 ],
 "metadata": {
  "kernelspec": {
   "display_name": "Python 3 (ipykernel)",
   "language": "python",
   "name": "python3"
  },
  "language_info": {
   "codemirror_mode": {
    "name": "ipython",
    "version": 3
   },
   "file_extension": ".py",
   "mimetype": "text/x-python",
   "name": "python",
   "nbconvert_exporter": "python",
   "pygments_lexer": "ipython3",
   "version": "3.11.5"
  }
 },
 "nbformat": 4,
 "nbformat_minor": 5
}
